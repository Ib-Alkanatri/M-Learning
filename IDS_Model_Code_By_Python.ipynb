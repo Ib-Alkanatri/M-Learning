{
 "cells": [
  {
   "cell_type": "markdown",
   "id": "e49816af",
   "metadata": {},
   "source": [
    "# IDS Model Code By Python."
   ]
  },
  {
   "cell_type": "markdown",
   "id": "b7b447a3",
   "metadata": {},
   "source": [
    "##### Importing the required libraries."
   ]
  },
  {
   "cell_type": "code",
   "execution_count": 2,
   "id": "bec70062",
   "metadata": {},
   "outputs": [],
   "source": [
    "#Activate greedy completion PENDING DEPRECTION.This is now mostly taken care of with Jedi.\n",
    "#This will enable completion on elements of lists, results of function calls,etc.\n",
    "%config IPCompleter.greedy=True\n",
    "\n",
    "#pandas is a popular Python-based data analysis toolkit which can be imported using \n",
    "#import pandas as pd. \n",
    "import pandas as pd\n",
    "\n",
    "#Seaborn is a Python data visualization library built on top of Matplotlib. \n",
    "import seaborn as sns\n",
    "\n",
    "#the np can be used to call the numpy library and related functions and data types.\n",
    "#NumPy contains a multi-dimensional array and matrix data structures.\n",
    "import numpy as np\n",
    "\n",
    "#Matplotlib is a plotting library \n",
    "import matplotlib as matplot\n",
    "\n",
    "#pyplot is a collection of command style functions that make matplotlib work like MATLAB\n",
    "import matplotlib.pyplot as plt\n",
    "%matplotlib inline\n",
    "\n",
    "from IPython.core.interactiveshell import InteractiveShell\n",
    "InteractiveShell.ast_node_interactivity = \"all\"\n",
    "\n",
    "from sklearn import metrics\n",
    "from sklearn.tree import DecisionTreeClassifier\n",
    "from sklearn.ensemble import RandomForestClassifier\n",
    "from sklearn.neighbors import KNeighborsClassifier\n",
    "from sklearn.model_selection import train_test_split\n",
    "from sklearn.preprocessing import LabelEncoder,normalize"
   ]
  },
  {
   "cell_type": "markdown",
   "id": "6965b365",
   "metadata": {},
   "source": [
    "##### Reading in the data (training & testing),"
   ]
  },
  {
   "cell_type": "markdown",
   "id": "8edaa75c",
   "metadata": {},
   "source": [
    "We will use Pandas to read in the data, The head() function is used to get the first n rows, here will get first 5 rows.\n",
    "then combine training & testing datasets to make the woek more easier.\n",
    "Eliminating the \"id\" column because it does not affect the work."
   ]
  },
  {
   "cell_type": "code",
   "execution_count": 3,
   "id": "9b19ee97",
   "metadata": {},
   "outputs": [],
   "source": [
    "train = pd.read_csv('data/UNSW_NB15_training-set.csv')\n",
    "test = pd.read_csv('data/UNSW_NB15_testing-set.csv')\n",
    "combined_data = pd.concat([train, test]).drop(['id'],axis=1)"
   ]
  },
  {
   "cell_type": "markdown",
   "id": "b528f870",
   "metadata": {},
   "source": [
    "##### Fixing the contamination issue in the dataset by making it less than 0.5 according to the properties of the used algorithm."
   ]
  },
  {
   "cell_type": "code",
   "execution_count": 4,
   "id": "31b87fcb",
   "metadata": {},
   "outputs": [
    {
     "name": "stdout",
     "output_type": "stream",
     "text": [
      "train contamination  0.55\n",
      "test  contamination  0.68 \n",
      "\n",
      "contamination is 0.55, which is greater than 0.5. Fixing...\n",
      "contamination is now 0.45\n"
     ]
    }
   ],
   "source": [
    "# Contamination means pollution (outliers) in data.\n",
    "tmp = train.where(train['attack_cat'] == \"Normal\").dropna()\n",
    "contamination = round(1 - len(tmp)/len(train), 2)\n",
    "print(\"train contamination \", contamination)\n",
    "\n",
    "tmp = test.where(test['attack_cat'] == \"Normal\").dropna()\n",
    "print(\"test  contamination \", round(1 - len(tmp)/len(test),2),'\\n')\n",
    "\n",
    "if contamination > 0.5:\n",
    "    print(f'contamination is {contamination}, which is greater than 0.5. Fixing...')\n",
    "    contamination = round(1-contamination,2)\n",
    "    print(f'contamination is now {contamination}')"
   ]
  },
  {
   "cell_type": "markdown",
   "id": "b947886d",
   "metadata": {},
   "source": [
    "##### Encoding the textual value columns to be as int values."
   ]
  },
  {
   "cell_type": "markdown",
   "id": "73aa5eda",
   "metadata": {},
   "source": [
    " The targeted columns are (attack cat, proto, service, state)."
   ]
  },
  {
   "cell_type": "code",
   "execution_count": 5,
   "id": "7fe68378",
   "metadata": {},
   "outputs": [
    {
     "name": "stdout",
     "output_type": "stream",
     "text": [
      "attack cat: {'Normal', 'Worms', 'Fuzzers', 'Analysis', 'Reconnaissance', 'DoS', 'Exploits', 'Backdoor', 'Shellcode', 'Generic'}\n",
      "\n",
      "Describing attack_type: \n",
      "min 0\n",
      "max 9\n",
      "mode 0    6\n",
      "dtype: int32 Which is, ['Normal']\n",
      "mode 0.3609225646458884 %\n"
     ]
    }
   ],
   "source": [
    "#Encode target labels with value between 0 and n_classes-1\n",
    "le1 = LabelEncoder()\n",
    "le = LabelEncoder()\n",
    "\n",
    "vector = combined_data['attack_cat']\n",
    "\n",
    "print(\"attack cat:\", set(list(vector))) # use print to make it print on single line \n",
    "\n",
    "combined_data['attack_cat'] = le1.fit_transform(vector)\n",
    "combined_data['proto'] = le.fit_transform(combined_data['proto'])\n",
    "combined_data['service'] = le.fit_transform(combined_data['service'])\n",
    "combined_data['state'] = le.fit_transform(combined_data['state'])\n",
    "\n",
    "vector = combined_data['attack_cat']\n",
    "print('\\nDescribing attack_type: ')\n",
    "print(\"min\", vector.min())\n",
    "print(\"max\", vector.max())\n",
    "print(\"mode\",vector.mode(), \"Which is,\", le1.inverse_transform(vector.mode()))\n",
    "print(\"mode\", len(np.where(vector.values==6)[0])/len(vector),\"%\")"
   ]
  },
  {
   "cell_type": "code",
   "execution_count": 6,
   "id": "9c8ef27f",
   "metadata": {},
   "outputs": [
    {
     "data": {
      "text/plain": [
       "array(['Analysis', 'Backdoor', 'DoS', 'Exploits', 'Fuzzers', 'Generic',\n",
       "       'Normal', 'Reconnaissance', 'Shellcode', 'Worms'], dtype=object)"
      ]
     },
     "execution_count": 6,
     "metadata": {},
     "output_type": "execute_result"
    },
    {
     "data": {
      "text/html": [
       "<div>\n",
       "<style scoped>\n",
       "    .dataframe tbody tr th:only-of-type {\n",
       "        vertical-align: middle;\n",
       "    }\n",
       "\n",
       "    .dataframe tbody tr th {\n",
       "        vertical-align: top;\n",
       "    }\n",
       "\n",
       "    .dataframe thead th {\n",
       "        text-align: right;\n",
       "    }\n",
       "</style>\n",
       "<table border=\"1\" class=\"dataframe\">\n",
       "  <thead>\n",
       "    <tr style=\"text-align: right;\">\n",
       "      <th></th>\n",
       "      <th>dur</th>\n",
       "      <th>proto</th>\n",
       "      <th>service</th>\n",
       "      <th>state</th>\n",
       "      <th>spkts</th>\n",
       "      <th>dpkts</th>\n",
       "      <th>sbytes</th>\n",
       "      <th>dbytes</th>\n",
       "      <th>rate</th>\n",
       "      <th>sttl</th>\n",
       "      <th>...</th>\n",
       "      <th>ct_dst_sport_ltm</th>\n",
       "      <th>ct_dst_src_ltm</th>\n",
       "      <th>is_ftp_login</th>\n",
       "      <th>ct_ftp_cmd</th>\n",
       "      <th>ct_flw_http_mthd</th>\n",
       "      <th>ct_src_ltm</th>\n",
       "      <th>ct_srv_dst</th>\n",
       "      <th>is_sm_ips_ports</th>\n",
       "      <th>attack_cat</th>\n",
       "      <th>label</th>\n",
       "    </tr>\n",
       "  </thead>\n",
       "  <tbody>\n",
       "    <tr>\n",
       "      <th>0</th>\n",
       "      <td>0.000011</td>\n",
       "      <td>119</td>\n",
       "      <td>0</td>\n",
       "      <td>5</td>\n",
       "      <td>2</td>\n",
       "      <td>0</td>\n",
       "      <td>496</td>\n",
       "      <td>0</td>\n",
       "      <td>90909.0902</td>\n",
       "      <td>254</td>\n",
       "      <td>...</td>\n",
       "      <td>1</td>\n",
       "      <td>2</td>\n",
       "      <td>0</td>\n",
       "      <td>0</td>\n",
       "      <td>0</td>\n",
       "      <td>1</td>\n",
       "      <td>2</td>\n",
       "      <td>0</td>\n",
       "      <td>6</td>\n",
       "      <td>0</td>\n",
       "    </tr>\n",
       "    <tr>\n",
       "      <th>1</th>\n",
       "      <td>0.000008</td>\n",
       "      <td>119</td>\n",
       "      <td>0</td>\n",
       "      <td>5</td>\n",
       "      <td>2</td>\n",
       "      <td>0</td>\n",
       "      <td>1762</td>\n",
       "      <td>0</td>\n",
       "      <td>125000.0003</td>\n",
       "      <td>254</td>\n",
       "      <td>...</td>\n",
       "      <td>1</td>\n",
       "      <td>2</td>\n",
       "      <td>0</td>\n",
       "      <td>0</td>\n",
       "      <td>0</td>\n",
       "      <td>1</td>\n",
       "      <td>2</td>\n",
       "      <td>0</td>\n",
       "      <td>6</td>\n",
       "      <td>0</td>\n",
       "    </tr>\n",
       "    <tr>\n",
       "      <th>2</th>\n",
       "      <td>0.000005</td>\n",
       "      <td>119</td>\n",
       "      <td>0</td>\n",
       "      <td>5</td>\n",
       "      <td>2</td>\n",
       "      <td>0</td>\n",
       "      <td>1068</td>\n",
       "      <td>0</td>\n",
       "      <td>200000.0051</td>\n",
       "      <td>254</td>\n",
       "      <td>...</td>\n",
       "      <td>1</td>\n",
       "      <td>3</td>\n",
       "      <td>0</td>\n",
       "      <td>0</td>\n",
       "      <td>0</td>\n",
       "      <td>1</td>\n",
       "      <td>3</td>\n",
       "      <td>0</td>\n",
       "      <td>6</td>\n",
       "      <td>0</td>\n",
       "    </tr>\n",
       "    <tr>\n",
       "      <th>3</th>\n",
       "      <td>0.000006</td>\n",
       "      <td>119</td>\n",
       "      <td>0</td>\n",
       "      <td>5</td>\n",
       "      <td>2</td>\n",
       "      <td>0</td>\n",
       "      <td>900</td>\n",
       "      <td>0</td>\n",
       "      <td>166666.6608</td>\n",
       "      <td>254</td>\n",
       "      <td>...</td>\n",
       "      <td>1</td>\n",
       "      <td>3</td>\n",
       "      <td>0</td>\n",
       "      <td>0</td>\n",
       "      <td>0</td>\n",
       "      <td>2</td>\n",
       "      <td>3</td>\n",
       "      <td>0</td>\n",
       "      <td>6</td>\n",
       "      <td>0</td>\n",
       "    </tr>\n",
       "    <tr>\n",
       "      <th>4</th>\n",
       "      <td>0.000010</td>\n",
       "      <td>119</td>\n",
       "      <td>0</td>\n",
       "      <td>5</td>\n",
       "      <td>2</td>\n",
       "      <td>0</td>\n",
       "      <td>2126</td>\n",
       "      <td>0</td>\n",
       "      <td>100000.0025</td>\n",
       "      <td>254</td>\n",
       "      <td>...</td>\n",
       "      <td>1</td>\n",
       "      <td>3</td>\n",
       "      <td>0</td>\n",
       "      <td>0</td>\n",
       "      <td>0</td>\n",
       "      <td>2</td>\n",
       "      <td>3</td>\n",
       "      <td>0</td>\n",
       "      <td>6</td>\n",
       "      <td>0</td>\n",
       "    </tr>\n",
       "  </tbody>\n",
       "</table>\n",
       "<p>5 rows × 44 columns</p>\n",
       "</div>"
      ],
      "text/plain": [
       "        dur  proto  service  state  spkts  dpkts  sbytes  dbytes         rate  \\\n",
       "0  0.000011    119        0      5      2      0     496       0   90909.0902   \n",
       "1  0.000008    119        0      5      2      0    1762       0  125000.0003   \n",
       "2  0.000005    119        0      5      2      0    1068       0  200000.0051   \n",
       "3  0.000006    119        0      5      2      0     900       0  166666.6608   \n",
       "4  0.000010    119        0      5      2      0    2126       0  100000.0025   \n",
       "\n",
       "   sttl  ...  ct_dst_sport_ltm  ct_dst_src_ltm  is_ftp_login  ct_ftp_cmd  \\\n",
       "0   254  ...                 1               2             0           0   \n",
       "1   254  ...                 1               2             0           0   \n",
       "2   254  ...                 1               3             0           0   \n",
       "3   254  ...                 1               3             0           0   \n",
       "4   254  ...                 1               3             0           0   \n",
       "\n",
       "   ct_flw_http_mthd  ct_src_ltm  ct_srv_dst  is_sm_ips_ports  attack_cat  \\\n",
       "0                 0           1           2                0           6   \n",
       "1                 0           1           2                0           6   \n",
       "2                 0           1           3                0           6   \n",
       "3                 0           2           3                0           6   \n",
       "4                 0           2           3                0           6   \n",
       "\n",
       "   label  \n",
       "0      0  \n",
       "1      0  \n",
       "2      0  \n",
       "3      0  \n",
       "4      0  \n",
       "\n",
       "[5 rows x 44 columns]"
      ]
     },
     "execution_count": 6,
     "metadata": {},
     "output_type": "execute_result"
    }
   ],
   "source": [
    "le1.inverse_transform([0,1,2,3,4,5,6,7,8,9])\n",
    "combined_data.head(5)"
   ]
  },
  {
   "cell_type": "markdown",
   "id": "bd5bf5fb",
   "metadata": {},
   "source": [
    "##### Split the dataset into train and test data"
   ]
  },
  {
   "cell_type": "markdown",
   "id": "8b664140",
   "metadata": {},
   "source": [
    "set test_size’ to 0.2 => 20% of data for testing & 80% for training \n",
    "Setting ‘stratify’ to y makes our training split represent the proportion of each value in the y variable."
   ]
  },
  {
   "cell_type": "code",
   "execution_count": 7,
   "id": "dd85664f",
   "metadata": {},
   "outputs": [],
   "source": [
    "data_x = combined_data.drop(['attack_cat','label'], axis=1) # droped label\n",
    "data_y = combined_data.loc[:,['label']]\n",
    "# del combined_data \n",
    "X_train, X_test, y_train, y_test = train_test_split(data_x, data_y, test_size=.20, random_state=42, stratify=data_y) "
   ]
  },
  {
   "cell_type": "code",
   "execution_count": 8,
   "id": "589abcc1",
   "metadata": {},
   "outputs": [
    {
     "data": {
      "text/plain": [
       "(206138, 42)"
      ]
     },
     "execution_count": 8,
     "metadata": {},
     "output_type": "execute_result"
    },
    {
     "data": {
      "text/plain": [
       "(206138, 1)"
      ]
     },
     "execution_count": 8,
     "metadata": {},
     "output_type": "execute_result"
    },
    {
     "data": {
      "text/plain": [
       "(51535, 42)"
      ]
     },
     "execution_count": 8,
     "metadata": {},
     "output_type": "execute_result"
    },
    {
     "data": {
      "text/plain": [
       "(51535, 1)"
      ]
     },
     "execution_count": 8,
     "metadata": {},
     "output_type": "execute_result"
    }
   ],
   "source": [
    "X_train.shape\n",
    "y_train.shape\n",
    "X_test.shape  \n",
    "y_test.shape"
   ]
  },
  {
   "cell_type": "markdown",
   "id": "b28b3513",
   "metadata": {},
   "source": [
    "##### Building and training the models & Testing the models"
   ]
  },
  {
   "cell_type": "markdown",
   "id": "65e4f837",
   "metadata": {},
   "source": [
    "Start with DecisionTreeClassifier & RandomForestClassifier Models, then get the testing result."
   ]
  },
  {
   "cell_type": "code",
   "execution_count": 9,
   "id": "f6e3734e",
   "metadata": {},
   "outputs": [
    {
     "name": "stdout",
     "output_type": "stream",
     "text": [
      "Acc: 0.93738 for the DecisionTreeClassifier\n",
      "Acc: 0.95279 for the RandomForestClassifier\n"
     ]
    }
   ],
   "source": [
    "RFC = RandomForestClassifier(n_estimators=150, random_state=42, n_jobs=-1)\n",
    "DTC = DecisionTreeClassifier()\n",
    "\n",
    "list_of_CLFs_names = []\n",
    "list_of_CLFs = [DTC,RFC]\n",
    "ranking = []\n",
    "\n",
    "for clf in list_of_CLFs:\n",
    "    _ = clf.fit(X_train,y_train.values.ravel())\n",
    "    pred = clf.score(X_test,y_test)\n",
    "    name = str(type(clf)).split(\".\")[-1][:-2]\n",
    "    print(\"Acc: %0.5f for the %s\" % (pred, name))\n",
    "\n",
    "    ranking.append(pred)\n",
    "    list_of_CLFs_names.append(name)"
   ]
  },
  {
   "cell_type": "markdown",
   "id": "4df24215",
   "metadata": {},
   "source": [
    "KNN Model, create a list \"scores\" to store the Accuracy for each iteration of the loop where \n",
    "the k-neighbor will change from 1 to 25 then will print this list"
   ]
  },
  {
   "cell_type": "code",
   "execution_count": 10,
   "id": "afc6b27d",
   "metadata": {},
   "outputs": [
    {
     "data": {
      "text/plain": [
       "KNeighborsClassifier(n_neighbors=1)"
      ]
     },
     "execution_count": 10,
     "metadata": {},
     "output_type": "execute_result"
    },
    {
     "name": "stdout",
     "output_type": "stream",
     "text": [
      "Accuracy with 1  neighbors is : 0.8459881633841079\n"
     ]
    },
    {
     "data": {
      "text/plain": [
       "KNeighborsClassifier(n_neighbors=2)"
      ]
     },
     "execution_count": 10,
     "metadata": {},
     "output_type": "execute_result"
    },
    {
     "name": "stdout",
     "output_type": "stream",
     "text": [
      "Accuracy with 2  neighbors is : 0.8211312700106723\n"
     ]
    },
    {
     "data": {
      "text/plain": [
       "KNeighborsClassifier(n_neighbors=3)"
      ]
     },
     "execution_count": 10,
     "metadata": {},
     "output_type": "execute_result"
    },
    {
     "name": "stdout",
     "output_type": "stream",
     "text": [
      "Accuracy with 3  neighbors is : 0.8487823809061803\n"
     ]
    },
    {
     "data": {
      "text/plain": [
       "KNeighborsClassifier(n_neighbors=4)"
      ]
     },
     "execution_count": 10,
     "metadata": {},
     "output_type": "execute_result"
    },
    {
     "name": "stdout",
     "output_type": "stream",
     "text": [
      "Accuracy with 4  neighbors is : 0.8331037159212186\n"
     ]
    },
    {
     "data": {
      "text/plain": [
       "KNeighborsClassifier()"
      ]
     },
     "execution_count": 10,
     "metadata": {},
     "output_type": "execute_result"
    },
    {
     "name": "stdout",
     "output_type": "stream",
     "text": [
      "Accuracy with 5  neighbors is : 0.8518288541767731\n"
     ]
    },
    {
     "data": {
      "text/plain": [
       "KNeighborsClassifier(n_neighbors=6)"
      ]
     },
     "execution_count": 10,
     "metadata": {},
     "output_type": "execute_result"
    },
    {
     "name": "stdout",
     "output_type": "stream",
     "text": [
      "Accuracy with 6  neighbors is : 0.8424371786164743\n"
     ]
    },
    {
     "data": {
      "text/plain": [
       "KNeighborsClassifier(n_neighbors=7)"
      ]
     },
     "execution_count": 10,
     "metadata": {},
     "output_type": "execute_result"
    },
    {
     "name": "stdout",
     "output_type": "stream",
     "text": [
      "Accuracy with 7  neighbors is : 0.8541767730668478\n"
     ]
    },
    {
     "data": {
      "text/plain": [
       "KNeighborsClassifier(n_neighbors=8)"
      ]
     },
     "execution_count": 10,
     "metadata": {},
     "output_type": "execute_result"
    },
    {
     "name": "stdout",
     "output_type": "stream",
     "text": [
      "Accuracy with 8  neighbors is : 0.8475016978752304\n"
     ]
    },
    {
     "data": {
      "text/plain": [
       "KNeighborsClassifier(n_neighbors=9)"
      ]
     },
     "execution_count": 10,
     "metadata": {},
     "output_type": "execute_result"
    },
    {
     "name": "stdout",
     "output_type": "stream",
     "text": [
      "Accuracy with 9  neighbors is : 0.8555350732511885\n"
     ]
    },
    {
     "data": {
      "text/plain": [
       "KNeighborsClassifier(n_neighbors=10)"
      ]
     },
     "execution_count": 10,
     "metadata": {},
     "output_type": "execute_result"
    },
    {
     "name": "stdout",
     "output_type": "stream",
     "text": [
      "Accuracy with 10  neighbors is : 0.8495585524400893\n"
     ]
    },
    {
     "data": {
      "text/plain": [
       "KNeighborsClassifier(n_neighbors=11)"
      ]
     },
     "execution_count": 10,
     "metadata": {},
     "output_type": "execute_result"
    },
    {
     "name": "stdout",
     "output_type": "stream",
     "text": [
      "Accuracy with 11  neighbors is : 0.8571456291840497\n"
     ]
    },
    {
     "data": {
      "text/plain": [
       "KNeighborsClassifier(n_neighbors=12)"
      ]
     },
     "execution_count": 10,
     "metadata": {},
     "output_type": "execute_result"
    },
    {
     "name": "stdout",
     "output_type": "stream",
     "text": [
      "Accuracy with 12  neighbors is : 0.8521587270786843\n"
     ]
    },
    {
     "data": {
      "text/plain": [
       "KNeighborsClassifier(n_neighbors=13)"
      ]
     },
     "execution_count": 10,
     "metadata": {},
     "output_type": "execute_result"
    },
    {
     "name": "stdout",
     "output_type": "stream",
     "text": [
      "Accuracy with 13  neighbors is : 0.8592801009022994\n"
     ]
    },
    {
     "data": {
      "text/plain": [
       "KNeighborsClassifier(n_neighbors=14)"
      ]
     },
     "execution_count": 10,
     "metadata": {},
     "output_type": "execute_result"
    },
    {
     "name": "stdout",
     "output_type": "stream",
     "text": [
      "Accuracy with 14  neighbors is : 0.8545066459687591\n"
     ]
    },
    {
     "data": {
      "text/plain": [
       "KNeighborsClassifier(n_neighbors=15)"
      ]
     },
     "execution_count": 10,
     "metadata": {},
     "output_type": "execute_result"
    },
    {
     "name": "stdout",
     "output_type": "stream",
     "text": [
      "Accuracy with 15  neighbors is : 0.8592995051906471\n"
     ]
    },
    {
     "data": {
      "text/plain": [
       "KNeighborsClassifier(n_neighbors=16)"
      ]
     },
     "execution_count": 10,
     "metadata": {},
     "output_type": "execute_result"
    },
    {
     "name": "stdout",
     "output_type": "stream",
     "text": [
      "Accuracy with 16  neighbors is : 0.8563694576501407\n"
     ]
    },
    {
     "data": {
      "text/plain": [
       "KNeighborsClassifier(n_neighbors=17)"
      ]
     },
     "execution_count": 10,
     "metadata": {},
     "output_type": "execute_result"
    },
    {
     "name": "stdout",
     "output_type": "stream",
     "text": [
      "Accuracy with 17  neighbors is : 0.8603861453381197\n"
     ]
    },
    {
     "data": {
      "text/plain": [
       "KNeighborsClassifier(n_neighbors=18)"
      ]
     },
     "execution_count": 10,
     "metadata": {},
     "output_type": "execute_result"
    },
    {
     "name": "stdout",
     "output_type": "stream",
     "text": [
      "Accuracy with 18  neighbors is : 0.8575725235276996\n"
     ]
    },
    {
     "data": {
      "text/plain": [
       "KNeighborsClassifier(n_neighbors=19)"
      ]
     },
     "execution_count": 10,
     "metadata": {},
     "output_type": "execute_result"
    },
    {
     "name": "stdout",
     "output_type": "stream",
     "text": [
      "Accuracy with 19  neighbors is : 0.8617444455224604\n"
     ]
    },
    {
     "data": {
      "text/plain": [
       "KNeighborsClassifier(n_neighbors=20)"
      ]
     },
     "execution_count": 10,
     "metadata": {},
     "output_type": "execute_result"
    },
    {
     "name": "stdout",
     "output_type": "stream",
     "text": [
      "Accuracy with 20  neighbors is : 0.8588726108469972\n"
     ]
    },
    {
     "data": {
      "text/plain": [
       "KNeighborsClassifier(n_neighbors=21)"
      ]
     },
     "execution_count": 10,
     "metadata": {},
     "output_type": "execute_result"
    },
    {
     "name": "stdout",
     "output_type": "stream",
     "text": [
      "Accuracy with 21  neighbors is : 0.8625206170563695\n"
     ]
    },
    {
     "data": {
      "text/plain": [
       "KNeighborsClassifier(n_neighbors=22)"
      ]
     },
     "execution_count": 10,
     "metadata": {},
     "output_type": "execute_result"
    },
    {
     "name": "stdout",
     "output_type": "stream",
     "text": [
      "Accuracy with 22  neighbors is : 0.8599204424177743\n"
     ]
    },
    {
     "data": {
      "text/plain": [
       "KNeighborsClassifier(n_neighbors=23)"
      ]
     },
     "execution_count": 10,
     "metadata": {},
     "output_type": "execute_result"
    },
    {
     "name": "stdout",
     "output_type": "stream",
     "text": [
      "Accuracy with 23  neighbors is : 0.8631221499951489\n"
     ]
    },
    {
     "data": {
      "text/plain": [
       "KNeighborsClassifier(n_neighbors=24)"
      ]
     },
     "execution_count": 10,
     "metadata": {},
     "output_type": "execute_result"
    },
    {
     "name": "stdout",
     "output_type": "stream",
     "text": [
      "Accuracy with 24  neighbors is : 0.8613175511788105\n"
     ]
    },
    {
     "data": {
      "text/plain": [
       "KNeighborsClassifier(n_neighbors=25)"
      ]
     },
     "execution_count": 10,
     "metadata": {},
     "output_type": "execute_result"
    },
    {
     "name": "stdout",
     "output_type": "stream",
     "text": [
      "Accuracy with 25  neighbors is : 0.8631803628601921\n"
     ]
    }
   ],
   "source": [
    "k_range = range(1, 26)\n",
    "scores = []\n",
    "for k in k_range:\n",
    "    # Create KNN classifier\n",
    "    knn = KNeighborsClassifier(n_neighbors = k)\n",
    "    # Fit the classifier to the data\n",
    "    knn.fit(X_train,y_train.values.ravel())\n",
    "    y_pred = knn.predict(X_test) \n",
    "    scores.append(metrics.accuracy_score(y_test, y_pred ))\n",
    "    print(\"Accuracy with \" + str(k) + \"  neighbors is : \" + str(metrics.accuracy_score(y_test, y_pred )))"
   ]
  },
  {
   "cell_type": "code",
   "execution_count": 11,
   "id": "c256f6db",
   "metadata": {},
   "outputs": [
    {
     "data": {
      "text/plain": [
       "[<matplotlib.lines.Line2D at 0x1fc00aa2190>]"
      ]
     },
     "execution_count": 11,
     "metadata": {},
     "output_type": "execute_result"
    },
    {
     "data": {
      "text/plain": [
       "Text(0.5, 0, 'Values for k in KNN')"
      ]
     },
     "execution_count": 11,
     "metadata": {},
     "output_type": "execute_result"
    },
    {
     "data": {
      "text/plain": [
       "Text(0, 0.5, 'Testing Accuracy')"
      ]
     },
     "execution_count": 11,
     "metadata": {},
     "output_type": "execute_result"
    },
    {
     "data": {
      "image/png": "[encoded data removed]",
      "text/plain": [
       "<Figure size 432x288 with 1 Axes>"
      ]
     },
     "metadata": {
      "needs_background": "light"
     },
     "output_type": "display_data"
    }
   ],
   "source": [
    "plt.plot(k_range, scores)\n",
    "plt.xlabel('Values for k in KNN')\n",
    "plt.ylabel('Testing Accuracy')"
   ]
  }
 ],
 "metadata": {
  "kernelspec": {
   "display_name": "Python 3 (ipykernel)",
   "language": "python",
   "name": "python3"
  },
  "language_info": {
   "codemirror_mode": {
    "name": "ipython",
    "version": 3
   },
   "file_extension": ".py",
   "mimetype": "text/x-python",
   "name": "python",
   "nbconvert_exporter": "python",
   "pygments_lexer": "ipython3",
   "version": "3.9.7"
  }
 },
 "nbformat": 4,
 "nbformat_minor": 5
}
